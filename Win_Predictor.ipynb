{
  "cells": [
    {
      "cell_type": "code",
      "execution_count": 2,
      "metadata": {
        "id": "l1L0TQb4nHnV"
      },
      "outputs": [],
      "source": [
        "import pandas as pd\n",
        "import numpy as np"
      ]
    },
    {
      "cell_type": "code",
      "execution_count": 7,
      "metadata": {
        "id": "1HMMkgEAn6md"
      },
      "outputs": [],
      "source": [
        "file_path_1 = 'data/Poll_details.csv'\n",
        "file_path_2 = 'data/Composition.csv'\n",
        "\n",
        "poll_data = pd.read_csv(file_path_1)\n",
        "composition_data = pd.read_csv(file_path_2)\n"
      ]
    },
    {
      "cell_type": "code",
      "execution_count": 4,
      "metadata": {
        "id": "bApoe-eXojBh"
      },
      "outputs": [],
      "source": [
        "composition_data['Race_composition'] = pd.to_numeric(composition_data['Race_composition'], errors='coerce')\n",
        "\n",
        "race_weights = dict(zip(composition_data['Race'].dropna(), composition_data['Race_composition'].dropna()))\n",
        "age_weights = dict(zip(composition_data['Age Group'].dropna(), composition_data['Composition'].dropna()))\n",
        "province_weights = dict(zip(composition_data['Province'].dropna(), composition_data['Province_population'].dropna()))\n"
      ]
    },
    {
      "cell_type": "code",
      "execution_count": 5,
      "metadata": {
        "id": "GM5fgqF0otFx"
      },
      "outputs": [],
      "source": [
        "age_weights = {\n",
        "    'Age 18-29': age_weights.get('15-59', 0) * 0.5,\n",
        "    'Age 30-59': age_weights.get('15-59', 0) * 0.5,\n",
        "    'Age 60+': age_weights.get('60+', 0)\n",
        "}\n",
        "\n",
        "\n",
        "def normalize_weights(weights):\n",
        "    total = sum(weights.values())\n",
        "    return {k: v / total for k, v in weights.items()} if total else {}\n",
        "\n",
        "race_weights = normalize_weights(race_weights)\n",
        "age_weights = normalize_weights(age_weights)\n",
        "province_weights = normalize_weights(province_weights)\n",
        "\n",
        "categories = {\n",
        "    'Age': ['Age 18-29', 'Age 30-59', 'Age 60+'],\n",
        "    'Economic': ['Poor', 'Middle', 'Better Off'],\n",
        "    'Ethnicity': ['Sinhala', 'SL Tamil', 'Estate\\\\Indian Tamil', 'Muslim'],\n",
        "    'Province': ['Western', 'Central', 'Southern', 'Northern', 'Eastern', 'North-Western', 'North Central', 'Uva', 'Sabaragamuwa']\n",
        "}\n",
        "\n",
        "def calculate_weighted_average(candidate_data, weights):\n",
        "    values = [candidate_data[cat] * weights.get(cat, 0) for cat in candidate_data.index if cat in weights]\n",
        "    total_weight = sum(weights.get(cat, 0) for cat in candidate_data.index if cat in weights)\n",
        "    result = sum(values) / total_weight if total_weight else 0\n",
        "\n",
        "    return result\n",
        "\n",
        "def predict_win_percentage(candidate):\n",
        "    candidate_data = poll_data[poll_data['Candidate'] == candidate].iloc[0]\n",
        "\n",
        "    category_averages = []\n",
        "\n",
        "    for category, cat_weights in [('Age', age_weights), ('Ethnicity', race_weights), ('Province', province_weights)]:\n",
        "        avg = calculate_weighted_average(candidate_data[categories[category]], cat_weights)\n",
        "        category_averages.append(avg)\n",
        "\n",
        "\n",
        "    economic_avg = np.mean(candidate_data[categories['Economic']])\n",
        "    category_averages.append(economic_avg)\n",
        "\n",
        "    final_avg = np.mean(category_averages)\n",
        "    return final_avg"
      ]
    },
    {
      "cell_type": "code",
      "execution_count": 6,
      "metadata": {
        "colab": {
          "base_uri": "https://localhost:8080/"
        },
        "id": "tg-iwzgAo2ih",
        "outputId": "b0965b3c-f74e-4980-c22d-0d856b8584ab"
      },
      "outputs": [
        {
          "name": "stdout",
          "output_type": "stream",
          "text": [
            "\n",
            "Candidates with predicted win percentages:\n",
            "Anura Kumara: 38.16760965109341\n",
            "Sajith Premadaasa: 30.51696484281412\n",
            "Ranil Wickremasinghe: 27.71703189150532\n",
            "Namal Rajapaksha: 3.5569497643197763\n",
            "\n",
            "Predicted winner: Anura Kumara with 38.16760965109341\n"
          ]
        }
      ],
      "source": [
        "candidates = poll_data['Candidate'].tolist()\n",
        "win_percentages = {candidate: predict_win_percentage(candidate) for candidate in candidates}\n",
        "\n",
        "sorted_candidates = sorted(win_percentages.items(), key=lambda x: x[1], reverse=True)\n",
        "\n",
        "\n",
        "print(\"\\nCandidates with predicted win percentages:\")\n",
        "for candidate, percentage in sorted_candidates:\n",
        "    print(f\"{candidate}: {percentage}\")\n",
        "\n",
        "winner = sorted_candidates[0][0]\n",
        "print(f\"\\nPredicted winner: {winner} with {sorted_candidates[0][1]}\")"
      ]
    }
  ],
  "metadata": {
    "colab": {
      "provenance": []
    },
    "kernelspec": {
      "display_name": "Python 3",
      "name": "python3"
    },
    "language_info": {
      "codemirror_mode": {
        "name": "ipython",
        "version": 3
      },
      "file_extension": ".py",
      "mimetype": "text/x-python",
      "name": "python",
      "nbconvert_exporter": "python",
      "pygments_lexer": "ipython3",
      "version": "3.12.6"
    }
  },
  "nbformat": 4,
  "nbformat_minor": 0
}
